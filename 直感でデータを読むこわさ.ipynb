{
 "cells": [
  {
   "cell_type": "markdown",
   "metadata": {},
   "source": [
    "# 直感でデータを読むこわさ\n",
    "## １　はじめに\n",
    "　本稿では、直感でデータを読むと読み間違えやすいテーマをいくつか挙げる。もちろん、大体においては直感は正しいのだが、100%依存すると過つことがあるということは知っておく意味がある。\n",
    "### １．１　ついでに\n",
    "　本稿に限らず、可能な限り説明にはPythonというプログラム言語を用いた例を示すように努める。これはこの言語を習得してほしいという趣旨ではない。本文の内容があまりにつまらなく、コメントの価値もないという場合に、プログラムにどのような改善の余地があるかを考えてもらえれば、退屈も少なくなるのではないかと考えてのことである。プログラム言語部分がわからなくとも理解できるペーパーを目指している。他方、プログラム部分には、読んだもらえる人のために過剰にコメントを入れておくことがある。過少である場合は筆者のミスだが、過剰である場合は意図的である。"
   ]
  },
  {
   "cell_type": "markdown",
   "metadata": {},
   "source": [
    "## ２　平均値と中央値\n",
    "　統計学を学ぶと最初に出てくるのは平均値である。そして、平均値だけではデータの状態の全てを知ることはできないということが説明され、中央値の説明となる。平均値を与えられると直感的にそれがおおむね中央値でもあるように思いこむがそれは多くの場合現実とは異なっている。"
   ]
  },
  {
   "cell_type": "code",
   "execution_count": 1,
   "metadata": {},
   "outputs": [],
   "source": [
    "import pandas as pd\n",
    "df=pd.DataFrame([['大津',57891],['彦根',25959],['長浜',24112],['近江八幡',39936],['草津',56351],\n",
    "                 ['水口',23248],['今津',8862],\n",
    "                 \n",
    "                 ['上京',37539],['左京',32486],['中京',23537],['東山',27932],['下京',31172],\n",
    "                 ['右京',82907],['伏見',40374],['福知山',15972],['舞鶴',11212],['宇治',96926],\n",
    "                 ['宮津',7699],['峰山',10373],\n",
    "                 \n",
    "                 ['大阪福島',23013],['西',19051],['港',21055],['天王寺',16488],['浪速',9898],\n",
    "                 ['西淀川',13061],['東成',13271],['生野',19466],['旭',33063],['城東',41693],\n",
    "                 ['阿倍野',21411],['住吉',40405],['東住吉',47905],['西成',11963],['東淀川',49326],\n",
    "                 ['北',13931],['大淀',16608],['東',14651],['南',11523],['堺',129812],\n",
    "                 ['岸和田',42334],['豊能',121621],['吹田',77298],['泉大津',49644],['枚方',113326],\n",
    "                 ['茨木',110484],['八尾',70865],['泉佐野',44545],['富田林',82534],['門真',64886],\n",
    "                 ['東大阪',74424],\n",
    "                 \n",
    "                 ['灘',24754],['兵庫',71957],['長田',15305],['須磨',62101],['神戸',28341],\n",
    "                 ['姫路',88467],['尼崎',68331],['明石',87700],['西宮',132895],['洲本',27965],\n",
    "                 ['芦屋',65519],['伊丹',64275],['相生',20334],['豊岡',22650],['加古川',66997],\n",
    "                 ['龍野',27742],['西脇',11081],['三木',14474],['社',22830],['和田山',10923],\n",
    "                 ['柏原',20602],\n",
    "                 \n",
    "                 ['奈良',125357],['葛城',78430],['桜井',25276],['吉野',7715],\n",
    "                 \n",
    "                 ['和歌山',57446],['海南',10177],['御坊',13837],['田辺',21064],['新宮',12212],\n",
    "                 ['粉河',34229],['湯浅',13440]])"
   ]
  },
  {
   "cell_type": "code",
   "execution_count": 2,
   "metadata": {},
   "outputs": [
    {
     "name": "stdout",
     "output_type": "stream",
     "text": [
      "確定申告者数平均： 41810.59756097561\n",
      "確定申告者数中央値： 27948.5\n",
      "平均は中央値の何倍か： 1.4959871750174647 倍\n"
     ]
    },
    {
     "data": {
      "image/png": "[encoded data removed]",
      "text/plain": [
       "<Figure size 432x288 with 1 Axes>"
      ]
     },
     "metadata": {
      "needs_background": "light"
     },
     "output_type": "display_data"
    }
   ],
   "source": [
    "%matplotlib inline\n",
    "df.columns=[\"署名\",\"確定申告者数\"]\n",
    "df[\"確定申告者数\"].hist()\n",
    "#平均、中央値1\n",
    "print('確定申告者数平均：',df[\"確定申告者数\"].mean())\n",
    "print('確定申告者数中央値：',df[\"確定申告者数\"].median())\n",
    "print('平均は中央値の何倍か：',df[\"確定申告者数\"].mean()/df[\"確定申告者数\"].median(),'倍')"
   ]
  },
  {
   "cell_type": "markdown",
   "metadata": {},
   "source": [
    "もちろん、何を考えるのかで話は異なるのだが、署の確定申告者数を全署の平均でイメージするのは署の代表的な姿をとらえるうえでは適当ではなさそうである。平均値は中央値の1.5倍という大きさである。ヒストグラムを見ると平均値の4万1千人程度というのはむしろ少数派の署である。では、中央値で考えるといいのかということだが、ヒストグラムを見るとそれでもやや無理があり、例えば、2万人程度、7万人程度、11万人程度の3つのグループに分けて考えるのがよさそうに見える。"
   ]
  },
  {
   "cell_type": "markdown",
   "metadata": {},
   "source": [
    "## ３　シンプソンのパラドックス\n",
    "　パラドックスと言っている時点で落ちが見えているのが残念だが、次のような例を考えてほしい。\n",
    "\n",
    "　A署X部門の上半期の成績が$\\frac{34}{37}$、Y部門の上半期の成績が$\\frac{18}{19}$であり、下期の成績はX部門が$\\frac{4}{12}$、Y部門が$\\frac{16}{28}$であったとする。どちらの部門の成績が良いであろうか。\n",
    " \n",
    "  上半期、X部門は91.9%の成績、Y部門は94.7%の成績である。下半期は、X部門33.3%、Y部門57.1%の成績である。\n",
    "\n",
    "　では、総合成績はどうなるか。X部門は、$\\frac{38}{49}$、Y部門は$\\frac{34}{47}$である。パーセント表示すると、77.6%と72.3%となる。"
   ]
  },
  {
   "cell_type": "markdown",
   "metadata": {},
   "source": [
    "以下の2項目は実務に関連する局面を思いつけていない。関連する局面を思いついた向きは教えていただけるとありがたい。\n",
    "\n",
    "### 巴戦は平等か\n",
    "\n",
    "相撲で千秋楽を迎えて予定された取り組みが終了した時点で、最多勝の力士が二人の場合、この二人で優勝決定戦が行われる。この場合、1対1であり、平等と言って大体良いであろう。最多勝の力士が三人の場合、巴戦が行われる。A,B,Cの三人が最多勝であったとすると、まずAとB、次にその勝者とCが対戦する。2連勝すると優勝ということになる。ちなみに、最多勝の力士が4人の場合、トーナメント方式で決着させることとなっている。過去最多のケースは最多勝の力士が5人で、このときは、くじで一人をシードにして、残り4人は1回戦を行い、勝者二人とシードの一人あわせて3人で巴戦という手の込んだことになる。\n",
    "\n",
    "では、3人で巴戦を行うというのは平等と言えるだろうか。巴戦を行う場合、「〇」、「東」、「西」のくじを力士が引く。〇を引いた力士が残り、「東」、「西」を引いた力士が他の二人が最初に戦う。確率の観点から考えると○を引いた力士の優勝確率は4/14（勝率約0.286）であり他の2人は5/14（勝率約0.357）であって、○を引いた力士が不利となる。状況から見ても、「東」または「西」を引いた力士は最初の対戦で負けても、一旦控えとなって次に○を引いた力士が勝てば再び対戦できるのに対し、○を引いた力士の場合は、最初に対戦する時に負けた時点で相手力士の優勝が決まってしまう(相手は先勝しているため二連勝となる)。\n",
    "\n",
    "#### 巴戦を数学的に解く\n",
    "\n",
    "　A,B,Cの三人で巴戦を行い、初戦はAとBが行うとしよう。AとBは平等な立場なので、優勝する確率は同じはずである(以下、A,B,Cの実力は同じ、相互の勝敗は50vs50と仮定して議論する）。また、優勝するのはこの三者以外にはないのだから、3人の優勝の確率を合計すれば1である。したがって、誰か一人の優勝確率がわかれば残りの優勝確率もわかる。\n",
    "\n",
    "　ここではCに注目しよう。Cは、1回目、2回目の取組では優勝できない。最初に優勝する可能性があるのは3回目の取組である。ここで、優勝できなかった場合を考えると、次に優勝できる可能性があるのは6回目、その次は9回目と3の倍数の時であることがわかる。\n",
    "\n",
    "  念のため、3回目から6回目までの試合結果を追っておくと、Cが3回目に優勝できなかったとき、4回目の試合にCは出ない。5回目の試合に出て負けると4回目の勝者の連勝になるのでCの優勝の可能性が残るのはここで勝った時。5回目の試合で勝ったなら6回目の試合にも出るわけでここでCが勝てばCの優勝決定となる。9回目以降もこれと同じ動きとなる。\n",
    "\n",
    "  では、実際に、優勝する確率を見てみよう。第3回でCが優勝するのは、それまでに優勝が決まっていない確率$\\frac{1}{2}$にCが３回目の取組で勝つ確率$\\frac{1}{2}$を掛けた$\\left(\\frac{1}{2}\\right)^2$である。\n",
    "  \n",
    "  第6回でCが優勝するのは、それまでに優勝が決まっていない確率$\\left(\\frac{1}{2}\\right)^4$にCが６回目の取組で勝つ確率$\\frac{1}{2}$を掛けた$\\left(\\frac{1}{2}\\right)^5$である。こうやって考えると、Cの優勝する確率は、初項$\\frac{1}{4}$、公比$\\frac{1}{8}$の無限の数列の和と考えられるので、$\\frac{2}{7}$となる（ここは公式を使っている。公式の証明をしてもいいのだが、話の筋から離れ混乱するかもしれないので省略する）。A,Bが優勝する確率はこれを１から引いて２で割ったものであり、$\\frac{5}{14}$となる。\n",
    "  \n",
    "　余談ながら、巴戦の問題は結構入試で出題される。まあ、そんなことをいまさら知っても役には立たないのだが。\n",
    "\n",
    "　古くは1986年の神戸大学で出題されており、比較的最近では2016年の東京大学の入試で出題されている。2012年には、東京大学大学院工学系研究科システム創成学の入試でも出題されている。\n",
    " \n",
    " 　上で偉そうに解き方を書いているのは答えを知っているからである。また、大学入試で出題されるときは大体誘導がついている。初見で解けないのは当然である。が、そういうときに解けないままで放り出すのもうれしくない。そこで、pythonで実験的に求めてみた。10万回実行した結果が次の通り。"
   ]
  },
  {
   "cell_type": "code",
   "execution_count": 1,
   "metadata": {},
   "outputs": [
    {
     "name": "stdout",
     "output_type": "stream",
     "text": [
      "[35422, 35931, 28647]\n"
     ]
    }
   ],
   "source": [
    "import random\n",
    "def game(a,b):\n",
    "    a_value = random.random()\n",
    "    b_value = random.random()\n",
    "    if a_value > b_value:\n",
    "        return (a,b)\n",
    "    elif a_value < b_value:\n",
    "        return (b,a)\n",
    "    else:\n",
    "        return game(a,b)\n",
    "def tomoe(a,b,c):\n",
    "    List = [a,b,c]\n",
    "    winner = None\n",
    "    while True:\n",
    "        thisgame = game(List[0],List[1])\n",
    "        if thisgame[0] == winner:\n",
    "            return winner\n",
    "        else:\n",
    "            winner = thisgame[0]\n",
    "            temp = [winner,List[2],thisgame[1]]\n",
    "            List = temp\n",
    "result = [0,0,0]\n",
    "for i in range(100000):\n",
    "    ret = tomoe('x','y','z')\n",
    "    if ret =='x':\n",
    "        result[0]+=1\n",
    "    elif ret == 'y':\n",
    "        result[1] +=1\n",
    "    else:\n",
    "        result[2] += 1\n",
    "print(result)\n",
    "            "
   ]
  },
  {
   "cell_type": "markdown",
   "metadata": {},
   "source": [
    "$\\frac{5}{14}$は、小数で表すと、0.3571...、$\\frac{2}{7}$は小数で表すと、0.2857...なのである程度近い数字が出ている。"
   ]
  },
  {
   "cell_type": "markdown",
   "metadata": {},
   "source": [
    "### モンティホール問題"
   ]
  },
  {
   "cell_type": "markdown",
   "metadata": {},
   "source": [
    "私が書きたいことをすべて書いているページがあるのでご紹介します。\n",
    "https://qiita.com/jun40vn/items/f52bdfa2bc69ca8c8d75\n",
    "\n",
    "この話は有名で、この話は有名で、テレビ番組で紹介されたこともあり、その内容をyoutubeで見ることもできる（youtubeの著作権の取り扱いを確認していないので、リンク先は示さない）。"
   ]
  }
 ],
 "metadata": {
  "kernelspec": {
   "display_name": "Python 3",
   "language": "python",
   "name": "python3"
  },
  "language_info": {
   "codemirror_mode": {
    "name": "ipython",
    "version": 3
   },
   "file_extension": ".py",
   "mimetype": "text/x-python",
   "name": "python",
   "nbconvert_exporter": "python",
   "pygments_lexer": "ipython3",
   "version": "3.7.4"
  }
 },
 "nbformat": 4,
 "nbformat_minor": 2
}
